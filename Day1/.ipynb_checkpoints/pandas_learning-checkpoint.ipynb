{
 "cells": [
  {
   "cell_type": "code",
   "execution_count": 2,
   "id": "0511aa38",
   "metadata": {},
   "outputs": [],
   "source": [
    "import pandas as pd"
   ]
  },
  {
   "cell_type": "code",
   "execution_count": null,
   "id": "ee3cce81",
   "metadata": {},
   "outputs": [],
   "source": [
    "df = pd.DataFrame([[1,2,3],[4,5,6],[7,8,9]])\n",
    "df"
   ]
  },
  {
   "cell_type": "code",
   "execution_count": null,
   "id": "e3b52ac4",
   "metadata": {},
   "outputs": [],
   "source": [
    "df = pd.DataFrame([[1,2,3],[4,5,6],[7,8,9]], columns= [\"A\", \"B\", \"C\"])\n",
    "\n",
    "df.head()\n",
    "df.head(1)\n",
    "df.tail(1)\n",
    "df.columns"
   ]
  },
  {
   "cell_type": "code",
   "execution_count": null,
   "id": "d4e73e39-cd08-4107-9fc8-04c42de92848",
   "metadata": {},
   "outputs": [],
   "source": [
    "df.index\n",
    "df.index.tolist()\n",
    "df = pd.DataFrame([[1,2,3],[4,5,6],[7,8,9]], columns= [\"A\", \"B\", \"C\"], index = [\"x\", \"y\", \"z\"])\n",
    "df"
   ]
  },
  {
   "cell_type": "code",
   "execution_count": null,
   "id": "d45e0546-6be4-4848-b19b-5c9abbb67b30",
   "metadata": {},
   "outputs": [],
   "source": [
    "df.info()\n",
    "df.describe()\n",
    "df.nunique() #num unique\n",
    "df['A'].unique() #specific colomn\n",
    "df.shape #shape of data frame in like (3,3)\n",
    "df.size"
   ]
  },
  {
   "cell_type": "code",
   "execution_count": null,
   "id": "03a9e9ff-b9c9-49a1-bd07-0760ca1a2776",
   "metadata": {},
   "outputs": [],
   "source": [
    "# Load sample Dataset using pandas\n",
    "\n",
    "coffee = pd.read_csv('../resources/coffee.csv')\n",
    "coffee"
   ]
  },
  {
   "cell_type": "code",
   "execution_count": null,
   "id": "4dce23ed-910e-4b01-aa9c-93edb1f50f88",
   "metadata": {},
   "outputs": [],
   "source": [
    "results = pd.read_parquet(\"../resources/results.parquet\")\n",
    "results.head()"
   ]
  },
  {
   "cell_type": "code",
   "execution_count": null,
   "id": "55865e77-b26c-4957-a991-5c6d9d4bdf2f",
   "metadata": {},
   "outputs": [],
   "source": [
    "olympics_data = pd.read_excel(\"../resources/olympics-data.xlsx\", sheet_name = \"results\")\n",
    "olympics_data.head()"
   ]
  },
  {
   "cell_type": "code",
   "execution_count": null,
   "id": "ebcf099d",
   "metadata": {},
   "outputs": [],
   "source": []
  }
 ],
 "metadata": {
  "kernelspec": {
   "display_name": "Python 3",
   "language": "python",
   "name": "python3"
  },
  "language_info": {
   "codemirror_mode": {
    "name": "ipython",
    "version": 3
   },
   "file_extension": ".py",
   "mimetype": "text/x-python",
   "name": "python",
   "nbconvert_exporter": "python",
   "pygments_lexer": "ipython3",
   "version": "3.13.2"
  }
 },
 "nbformat": 4,
 "nbformat_minor": 5
}

{
 "cells": [
  {
   "cell_type": "code",
   "execution_count": 1,
   "id": "94fcd837-7f16-4b4f-ae6c-51afcba57649",
   "metadata": {},
   "outputs": [],
   "source": [
    "import pandas as pd"
   ]
  },
  {
   "cell_type": "code",
   "execution_count": 4,
   "id": "5f67fb03-ff57-4b38-8e43-0cae8b916783",
   "metadata": {},
   "outputs": [],
   "source": [
    "coffee = pd.read_csv('../resources/coffee.csv')\n",
    "results = pd.read_parquet('../resources/results.parquet')\n",
    "bios = pd.read_csv('../resources/bios.csv')"
   ]
  },
  {
   "cell_type": "code",
   "execution_count": null,
   "id": "bcabe7fc-f1bf-43c8-828f-91db6d16a390",
   "metadata": {},
   "outputs": [],
   "source": []
  }
 ],
 "metadata": {
  "kernelspec": {
   "display_name": "Python 3 (ipykernel)",
   "language": "python",
   "name": "python3"
  },
  "language_info": {
   "codemirror_mode": {
    "name": "ipython",
    "version": 3
   },
   "file_extension": ".py",
   "mimetype": "text/x-python",
   "name": "python",
   "nbconvert_exporter": "python",
   "pygments_lexer": "ipython3",
   "version": "3.13.2"
  }
 },
 "nbformat": 4,
 "nbformat_minor": 5
}
